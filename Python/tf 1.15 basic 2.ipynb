{
 "cells": [
  {
   "cell_type": "code",
   "execution_count": 140,
   "metadata": {},
   "outputs": [],
   "source": [
    "import numpy as np\n",
    "\n",
    "f = lambda x : x ** 2 - 4 * x + 6"
   ]
  },
  {
   "cell_type": "code",
   "execution_count": 141,
   "metadata": {},
   "outputs": [],
   "source": [
    "x = np.linspace(-1, 6, 100)\n",
    "y = f(x)"
   ]
  },
  {
   "cell_type": "code",
   "execution_count": 142,
   "metadata": {},
   "outputs": [
    {
     "data": {
      "image/png": "[encoded data removed]",
      "text/plain": [
       "<Figure size 432x288 with 1 Axes>"
      ]
     },
     "metadata": {
      "needs_background": "light"
     },
     "output_type": "display_data"
    }
   ],
   "source": [
    "import matplotlib.pyplot as plt\n",
    "\n",
    "plt.plot(x, y, 'k-')\n",
    "plt.plot(2, 2, 'sk')\n",
    "plt.grid()\n",
    "plt.xlabel('x')\n",
    "plt.ylabel('f(x)')\n",
    "plt.show()"
   ]
  },
  {
   "cell_type": "code",
   "execution_count": 143,
   "metadata": {},
   "outputs": [
    {
     "name": "stdout",
     "output_type": "stream",
     "text": [
      "step \t x \t f(x)\n",
      "00 \t 0.00000 \t 6.00000\n"
     ]
    }
   ],
   "source": [
    "grad_f = lambda x : 2 * x - 4\n",
    "x0 = 0.0\n",
    "MaxIter = 10\n",
    "learning_rate = 0.25\n",
    "\n",
    "print(\"step \\t x \\t f(x)\")\n",
    "print(\"{:02d} \\t {:6.5f} \\t {:6.5f}\".format(0, x0, f(x0)))"
   ]
  },
  {
   "cell_type": "code",
   "execution_count": 144,
   "metadata": {},
   "outputs": [
    {
     "name": "stdout",
     "output_type": "stream",
     "text": [
      "01 \t 1.00000 \t 3.00000\n",
      "02 \t 1.50000 \t 2.25000\n",
      "03 \t 1.75000 \t 2.06250\n",
      "04 \t 1.87500 \t 2.01562\n",
      "05 \t 1.93750 \t 2.00391\n",
      "06 \t 1.96875 \t 2.00098\n",
      "07 \t 1.98438 \t 2.00024\n",
      "08 \t 1.99219 \t 2.00006\n",
      "09 \t 1.99609 \t 2.00002\n",
      "10 \t 1.99805 \t 2.00000\n"
     ]
    }
   ],
   "source": [
    "for i in range(MaxIter) :\n",
    "    x1 = x0 - learning_rate * grad_f(x0)\n",
    "    x0 = x1\n",
    "    \n",
    "    print(\"{:02d} \\t {:6.5f} \\t {:6.5f}\".format(i+1, x0, f(x0)))"
   ]
  },
  {
   "cell_type": "code",
   "execution_count": 148,
   "metadata": {},
   "outputs": [],
   "source": [
    "import numpy as np\n",
    "\n",
    "np.random.seed(320)\n",
    "x_train = np.linspace(-1, 1, 50)\n",
    "f = lambda x : 0.5 * x + 1.0\n",
    "y_train = f(x_train) + 0.4 * np.random.rand(len(x_train))"
   ]
  },
  {
   "cell_type": "code",
   "execution_count": 149,
   "metadata": {},
   "outputs": [],
   "source": [
    "def loss(w, x_set, y_set) :\n",
    "        N = len(x_set)\n",
    "        val = 0.0\n",
    "        \n",
    "        for i in range(len(x_set)) :\n",
    "            val += 0.5 * (w[0] * x_set[i] + w[i] - yset[i]) ** 2\n",
    "        \n",
    "        return val / N"
   ]
  },
  {
   "cell_type": "code",
   "execution_count": 150,
   "metadata": {},
   "outputs": [],
   "source": [
    "def loss_grad(w, x_set, y_set) :\n",
    "        N = len(x_set)\n",
    "        val = np.zeros(len(w))\n",
    "        \n",
    "        for i in range(len(x_set)) :\n",
    "            er = w[0] * x_set[i] + w[1] - y_set[i]\n",
    "            val += er * np.array([x_set[1], 1.0])\n",
    "        \n",
    "        return val / N"
   ]
  },
  {
   "cell_type": "code",
   "execution_count": 151,
   "metadata": {},
   "outputs": [
    {
     "name": "stdout",
     "output_type": "stream",
     "text": [
      "[ 0  1  2  3  4  5  6  7  8  9 10 11 12 13 14 15 16 17 18 19 20 21 22 23\n",
      " 24 25 26 27 28 29 30 31 32 33 34 35 36 37 38 39 40 41 42 43 44 45 46 47\n",
      " 48 49]\n",
      "[32 17 47 33  1  7 23 19 21 40  3 14 18  0  4 12 42 41 25 10  2 36 31  6\n",
      " 16 24 11 22 45 46 49 15 38 48  8 37 30  9 35 13 28 34 29 27 39 26 20 44\n",
      "  5 43]\n"
     ]
    }
   ],
   "source": [
    "idx = np.arange(len(x_train))\n",
    "\n",
    "print(idx)\n",
    "\n",
    "np.random.shuffle(idx)\n",
    "\n",
    "print(idx)\n"
   ]
  },
  {
   "cell_type": "code",
   "execution_count": 152,
   "metadata": {},
   "outputs": [],
   "source": [
    "import numpy as np\n",
    "\n",
    "x_train = np.linspace(-1, 1, 50)\n",
    "f = lambda x : 0.5 * x + 1.0\n",
    "y_train = f(x_train) + 0.4 * np.random.rand(len(x_train))"
   ]
  },
  {
   "cell_type": "code",
   "execution_count": 153,
   "metadata": {},
   "outputs": [],
   "source": [
    "batch_size = 5\n",
    "Ir = 0.1\n",
    "MaxEpochs = 10\n",
    "paths = []\n",
    "batch_loss = []\n",
    "w0 = np.array([4.0, -1.0])\n",
    "serch_direction = np.zeros_like(w0)"
   ]
  },
  {
   "cell_type": "code",
   "execution_count": 154,
   "metadata": {},
   "outputs": [
    {
     "name": "stdout",
     "output_type": "stream",
     "text": [
      "(array([-1.        , -0.95918367, -0.91836735, -0.87755102, -0.83673469,\n",
      "       -0.79591837, -0.75510204, -0.71428571, -0.67346939, -0.63265306,\n",
      "       -0.59183673, -0.55102041, -0.51020408, -0.46938776, -0.42857143,\n",
      "       -0.3877551 , -0.34693878, -0.30612245, -0.26530612, -0.2244898 ,\n",
      "       -0.18367347, -0.14285714, -0.10204082, -0.06122449, -0.02040816,\n",
      "        0.02040816,  0.06122449,  0.10204082,  0.14285714,  0.18367347,\n",
      "        0.2244898 ,  0.26530612,  0.30612245,  0.34693878,  0.3877551 ,\n",
      "        0.42857143,  0.46938776,  0.51020408,  0.55102041,  0.59183673,\n",
      "        0.63265306,  0.67346939,  0.71428571,  0.75510204,  0.79591837,\n",
      "        0.83673469,  0.87755102,  0.91836735,  0.95918367,  1.        ]), array([0.76291903, 0.57788914, 0.54810959, 0.7653102 , 0.88376508,\n",
      "       0.86202445, 0.93378416, 0.81780495, 0.87496602, 0.78422473,\n",
      "       1.08660435, 0.90733391, 0.849739  , 0.79591566, 1.00206985,\n",
      "       1.10908311, 1.00904081, 1.12700375, 1.15594681, 0.94143808,\n",
      "       1.21892099, 1.13262642, 0.98260011, 1.08567054, 1.28846734,\n",
      "       1.10551732, 1.31717962, 1.4030643 , 1.14544192, 1.15227214,\n",
      "       1.26062683, 1.21892853, 1.18517394, 1.28527124, 1.55140323,\n",
      "       1.61257805, 1.29994735, 1.47428628, 1.40823498, 1.51610096,\n",
      "       1.50569742, 1.67631117, 1.36620141, 1.55941814, 1.79578813,\n",
      "       1.48765113, 1.80542287, 1.8382116 , 1.83408824, 1.71717332]))\n"
     ]
    }
   ],
   "source": [
    "np.random.seed(320)\n",
    "idx = np.arange(len(x_train))\n",
    "np.random.shuffle(idx)\n",
    "\n",
    "shuffled_x_train = x_train[idx]\n",
    "shuffled_y_train = y_train[idx]\n",
    "\n",
    "print(x_train, y_train)"
   ]
  },
  {
   "cell_type": "code",
   "execution_count": 155,
   "metadata": {},
   "outputs": [],
   "source": [
    "def loss(w, x_set, y_set) :\n",
    "    N = len(x_set)\n",
    "    val = 0.0\n",
    "    \n",
    "    for i in range(len(x_set)) :\n",
    "        val += 0.5 * ((w[0] * x_set[i] + w[1]) - y_set[i]) ** 2\n",
    "    return val / N"
   ]
  },
  {
   "cell_type": "code",
   "execution_count": 156,
   "metadata": {},
   "outputs": [],
   "source": [
    "from generate_batches import generate_batches"
   ]
  },
  {
   "cell_type": "code",
   "execution_count": 157,
   "metadata": {},
   "outputs": [],
   "source": [
    "def loss_grad(w, x_set, y_set) :\n",
    "    N = len(x_set)\n",
    "    val = np.zeros(len(w))\n",
    "    \n",
    "    for i in range(len(x_set)) :\n",
    "        er = (w[0] * x_set[i] + w[1]) - y_set[i]\n",
    "        val += er * np.array([x_set[i], 1.0])\n",
    "        \n",
    "    return val / N"
   ]
  },
  {
   "cell_type": "code",
   "execution_count": 158,
   "metadata": {},
   "outputs": [
    {
     "name": "stdout",
     "output_type": "stream",
     "text": [
      " 0 \t [2.93268455 0.42186099] \t 1.3144\n",
      " 1 \t [2.19912794 0.91851884] \t 0.5320\n",
      " 2 \t [1.69103304 1.09346429] \t 0.2478\n",
      " 3 \t [1.33772146 1.15610018] \t 0.1220\n",
      " 4 \t [1.0915585  1.17922051] \t 0.0624\n",
      " 5 \t [0.91988154 1.18822393] \t 0.0337\n",
      " 6 \t [0.80009379 1.19203732] \t 0.0198\n",
      " 7 \t [0.71649161 1.19384329] \t 0.0130\n",
      " 8 \t [0.65813704 1.1948075 ] \t 0.0098\n",
      " 9 \t [0.61740296 1.1953779 ] \t 0.0082\n",
      "10 \t [0.58896792 1.19574051] \t 0.0074\n"
     ]
    }
   ],
   "source": [
    "for epoch in range(MaxEpochs + 1) :\n",
    "    for x_batch, y_batch in generate_batches(batch_size, shuffled_x_train, shuffled_y_train) :\n",
    "# for x_batch, y_batch in generate_batches(batch_size, x_train, y_train) :\n",
    "        paths.append(w0)\n",
    "        batch_loss.append(loss(w0, x_batch, y_batch))\n",
    "        grad = loss_grad(w0, x_batch, y_batch)\n",
    "        serch_direction = -grad\n",
    "        Ir = Ir\n",
    "        dw = Ir * serch_direction\n",
    "        w0 = w0 + dw\n",
    "    \n",
    "    print(\"{:2d} \\t {} \\t {:5.4f}\".format(epoch, w0, loss(w0, x_train, y_train)))"
   ]
  },
  {
   "cell_type": "code",
   "execution_count": 159,
   "metadata": {},
   "outputs": [],
   "source": [
    "from matplotlib.colors import LogNorm\n",
    "import matplotlib.pyplot as plt"
   ]
  },
  {
   "cell_type": "code",
   "execution_count": 199,
   "metadata": {},
   "outputs": [
    {
     "ename": "TypeError",
     "evalue": "'Tensor' object is not callable",
     "output_type": "error",
     "traceback": [
      "\u001b[0;31m\u001b[0m",
      "\u001b[0;31mTypeError\u001b[0mTraceback (most recent call last)",
      "\u001b[0;32m<ipython-input-199-7546fd87126b>\u001b[0m in \u001b[0;36m<module>\u001b[0;34m()\u001b[0m\n\u001b[1;32m     17\u001b[0m     \u001b[0;32mfor\u001b[0m \u001b[0mj\u001b[0m \u001b[0;32min\u001b[0m \u001b[0mrange\u001b[0m\u001b[0;34m(\u001b[0m\u001b[0mW1\u001b[0m\u001b[0;34m.\u001b[0m\u001b[0mshape\u001b[0m\u001b[0;34m[\u001b[0m\u001b[0;36m1\u001b[0m\u001b[0;34m]\u001b[0m\u001b[0;34m)\u001b[0m \u001b[0;34m:\u001b[0m\u001b[0;34m\u001b[0m\u001b[0m\n\u001b[1;32m     18\u001b[0m         \u001b[0mwij\u001b[0m \u001b[0;34m=\u001b[0m \u001b[0mnp\u001b[0m\u001b[0;34m.\u001b[0m\u001b[0marray\u001b[0m\u001b[0;34m(\u001b[0m\u001b[0;34m[\u001b[0m\u001b[0mW0\u001b[0m\u001b[0;34m[\u001b[0m\u001b[0mi\u001b[0m\u001b[0;34m,\u001b[0m \u001b[0mj\u001b[0m\u001b[0;34m]\u001b[0m\u001b[0;34m,\u001b[0m \u001b[0mW1\u001b[0m\u001b[0;34m[\u001b[0m\u001b[0mi\u001b[0m\u001b[0;34m,\u001b[0m \u001b[0mj\u001b[0m\u001b[0;34m]\u001b[0m\u001b[0;34m]\u001b[0m\u001b[0;34m)\u001b[0m\u001b[0;34m\u001b[0m\u001b[0m\n\u001b[0;32m---> 19\u001b[0;31m         \u001b[0mLOSSW\u001b[0m\u001b[0;34m[\u001b[0m\u001b[0mi\u001b[0m\u001b[0;34m,\u001b[0m \u001b[0mj\u001b[0m\u001b[0;34m]\u001b[0m \u001b[0;34m=\u001b[0m \u001b[0mloss\u001b[0m\u001b[0;34m(\u001b[0m\u001b[0mwij\u001b[0m\u001b[0;34m,\u001b[0m \u001b[0mx_train\u001b[0m\u001b[0;34m,\u001b[0m \u001b[0my_train\u001b[0m\u001b[0;34m)\u001b[0m\u001b[0;34m\u001b[0m\u001b[0m\n\u001b[0m\u001b[1;32m     20\u001b[0m \u001b[0;34m\u001b[0m\u001b[0m\n\u001b[1;32m     21\u001b[0m \u001b[0mcontour_with_path\u001b[0m\u001b[0;34m(\u001b[0m\u001b[0mLOSSW\u001b[0m\u001b[0;34m,\u001b[0m \u001b[0mW0\u001b[0m\u001b[0;34m,\u001b[0m \u001b[0mW1\u001b[0m\u001b[0;34m,\u001b[0m \u001b[0mpaths\u001b[0m\u001b[0;34m,\u001b[0m \u001b[0mnorm\u001b[0m\u001b[0;34m=\u001b[0m\u001b[0mNone\u001b[0m\u001b[0;34m,\u001b[0m \u001b[0mlevel\u001b[0m\u001b[0;34m=\u001b[0m\u001b[0mnp\u001b[0m\u001b[0;34m.\u001b[0m\u001b[0mlinspace\u001b[0m\u001b[0;34m(\u001b[0m\u001b[0;36m0\u001b[0m\u001b[0;34m,\u001b[0m \u001b[0;36m10\u001b[0m\u001b[0;34m,\u001b[0m \u001b[0;36m10\u001b[0m\u001b[0;34m)\u001b[0m\u001b[0;34m)\u001b[0m\u001b[0;34m\u001b[0m\u001b[0m\n",
      "\u001b[0;31mTypeError\u001b[0m: 'Tensor' object is not callable"
     ]
    }
   ],
   "source": [
    "def contour_with_path(l, x, y, paths, norm = LogNorm(), level = np.logspace(0, 5, 35), minima = None) :\n",
    "    paths = np.array(paths).T\n",
    "    fig, ax = plt.subplots(figsize = (7, 4))\n",
    "    ax.contour(x, y, 1, levels = level, norm = norm, cmap = plt.cm.jet)\n",
    "    ax.quver(paths[0, :-1], paths[1, :-1], paths[0, 1:]-paths[0, :-1], paths[1, 1:] - paths[1, :-1], scale_units = 'xy',\n",
    "            angles = 'xy', scale = 1, color = 'k')\n",
    "    ax.set_xlabel('$x$')\n",
    "    ax.set_ylabel('$y$')\n",
    "    plt.show()\n",
    "    \n",
    "W0 = np.linspace(-5, 7, 101)\n",
    "W1 = np.linspace(-2, 5, 101)\n",
    "W0, W1 = np.meshgrid(W0, W1)\n",
    "LOSSW = W0 * 0\n",
    "\n",
    "for i in range(W0.shape[0]) :\n",
    "    for j in range(W1.shape[1]) :\n",
    "        wij = np.array([W0[i, j], W1[i, j]])\n",
    "        LOSSW[i, j] = loss(wij, x_train, y_train)\n",
    "\n",
    "contour_with_path(LOSSW, W0, W1, paths, norm=None, level=np.linspace(0, 10, 10))"
   ]
  },
  {
   "cell_type": "code",
   "execution_count": 168,
   "metadata": {},
   "outputs": [
    {
     "data": {
      "image/png": "[encoded data removed]",
      "text/plain": [
       "<Figure size 432x288 with 1 Axes>"
      ]
     },
     "metadata": {
      "needs_background": "light"
     },
     "output_type": "display_data"
    }
   ],
   "source": [
    "plt.plot(batch_loss, '.-k', markerfacecolor = 'none')\n",
    "plt.grid()\n",
    "plt.xlabel('step')\n",
    "plt.ylabel('loss')\n",
    "plt.title('loss on a batch by SGD')\n",
    "plt.show()"
   ]
  },
  {
   "cell_type": "code",
   "execution_count": 169,
   "metadata": {},
   "outputs": [],
   "source": [
    "import numpy as np\n",
    "import matplotlib.pylab as plt\n",
    "import tensorflow as tf\n",
    "%matplotlib inline\n",
    "%config inlineBackend.figure_format = 'retina'"
   ]
  },
  {
   "cell_type": "code",
   "execution_count": 189,
   "metadata": {},
   "outputs": [],
   "source": [
    "np.random.seed(320)\n",
    "x_train = np.linspace(-1, 1, 51)\n",
    "y_train = 0.5 * x_train + 1.0 + 0.4 * np.random.rand(len(x_train))\n",
    "x_train = x_train.reshape(-1, 1)\n",
    "y_train = y_train.reshape(-1, 1)"
   ]
  },
  {
   "cell_type": "code",
   "execution_count": 190,
   "metadata": {},
   "outputs": [
    {
     "data": {
      "image/png": "[encoded data removed]",
      "text/plain": [
       "<Figure size 432x288 with 1 Axes>"
      ]
     },
     "metadata": {
      "needs_background": "light"
     },
     "output_type": "display_data"
    }
   ],
   "source": [
    "plt.plot(x_train, y_train, '.k')\n",
    "plt.grid()\n",
    "plt.xlabel('x')\n",
    "plt.ylabel('y')\n",
    "plt.show()"
   ]
  },
  {
   "cell_type": "code",
   "execution_count": 175,
   "metadata": {},
   "outputs": [],
   "source": [
    "MaxEpochs = 1025\n",
    "Ir = 0.25\n",
    "\n",
    "w = tf.Variable(tf.ones([1, 1]), dtype = tf.float32)\n",
    "b = tf.Variable(tf.ones([1]), dtype = tf.float32)\n",
    "x = tf.placeholder(tf.float32, (None, 1))\n",
    "y = tf.placeholder(tf.float32, (None, 1))\n",
    "yhat = tf.matmul(x, w) + b\n",
    "\n",
    "loss = tf.reduce_mean(tf.square(yhat - y))\n",
    "optimizer = tf.train.GradientDescentOptimizer(Ir)\n",
    "train = optimizer.minimize(loss)\n",
    "\n",
    "init = tf.global_variables_initializer()   # 이놈을 제일 마지막에.."
   ]
  },
  {
   "cell_type": "code",
   "execution_count": 191,
   "metadata": {},
   "outputs": [
    {
     "name": "stdout",
     "output_type": "stream",
     "text": [
      "(array([[1.]], dtype=float32), array([1.], dtype=float32), 0.14998727)\n",
      "(array([[0.6727577]], dtype=float32), array([1.1888978], dtype=float32), 0.028191052)\n",
      "(array([[0.54642326]], dtype=float32), array([1.1948009], dtype=float32), 0.015662618)\n",
      "(array([[0.49765092]], dtype=float32), array([1.1949854], dtype=float32), 0.013800872)\n",
      "(array([[0.478822]], dtype=float32), array([1.1949911], dtype=float32), 0.013523399)\n",
      "(array([[0.47155294]], dtype=float32), array([1.1949912], dtype=float32), 0.013482046)\n",
      "(array([[0.46874666]], dtype=float32), array([1.1949912], dtype=float32), 0.013475881)\n",
      "(array([[0.4676633]], dtype=float32), array([1.1949912], dtype=float32), 0.013474964)\n",
      "(array([[0.467245]], dtype=float32), array([1.1949912], dtype=float32), 0.013474825)\n",
      "(array([[0.46708354]], dtype=float32), array([1.1949912], dtype=float32), 0.013474803)\n",
      "(array([[0.4670212]], dtype=float32), array([1.1949912], dtype=float32), 0.0134748025)\n",
      "(array([[0.46699712]], dtype=float32), array([1.1949912], dtype=float32), 0.013474801)\n",
      "(array([[0.46698782]], dtype=float32), array([1.1949912], dtype=float32), 0.013474801)\n",
      "(array([[0.46698424]], dtype=float32), array([1.1949912], dtype=float32), 0.0134748025)\n",
      "(array([[0.46698287]], dtype=float32), array([1.1949912], dtype=float32), 0.013474801)\n",
      "(array([[0.46698236]], dtype=float32), array([1.1949912], dtype=float32), 0.013474801)\n",
      "(array([[0.46698216]], dtype=float32), array([1.1949912], dtype=float32), 0.0134748)\n",
      "(array([[0.46698207]], dtype=float32), array([1.1949912], dtype=float32), 0.0134748025)\n",
      "(array([[0.46698207]], dtype=float32), array([1.1949912], dtype=float32), 0.0134748025)\n",
      "(array([[0.46698207]], dtype=float32), array([1.1949912], dtype=float32), 0.0134748025)\n",
      "(array([[0.46698207]], dtype=float32), array([1.1949912], dtype=float32), 0.0134748025)\n",
      "(array([[0.46698207]], dtype=float32), array([1.1949912], dtype=float32), 0.0134748025)\n",
      "(array([[0.46698207]], dtype=float32), array([1.1949912], dtype=float32), 0.0134748025)\n",
      "(array([[0.46698207]], dtype=float32), array([1.1949912], dtype=float32), 0.0134748025)\n",
      "(array([[0.46698207]], dtype=float32), array([1.1949912], dtype=float32), 0.0134748025)\n",
      "(array([[0.46698207]], dtype=float32), array([1.1949912], dtype=float32), 0.0134748025)\n",
      "(array([[0.46698207]], dtype=float32), array([1.1949912], dtype=float32), 0.0134748025)\n",
      "(array([[0.46698207]], dtype=float32), array([1.1949912], dtype=float32), 0.0134748025)\n",
      "(array([[0.46698207]], dtype=float32), array([1.1949912], dtype=float32), 0.0134748025)\n",
      "(array([[0.46698207]], dtype=float32), array([1.1949912], dtype=float32), 0.0134748025)\n",
      "(array([[0.46698207]], dtype=float32), array([1.1949912], dtype=float32), 0.0134748025)\n",
      "(array([[0.46698207]], dtype=float32), array([1.1949912], dtype=float32), 0.0134748025)\n",
      "(array([[0.46698207]], dtype=float32), array([1.1949912], dtype=float32), 0.0134748025)\n",
      "(array([[0.46698207]], dtype=float32), array([1.1949912], dtype=float32), 0.0134748025)\n",
      "(array([[0.46698207]], dtype=float32), array([1.1949912], dtype=float32), 0.0134748025)\n",
      "(array([[0.46698207]], dtype=float32), array([1.1949912], dtype=float32), 0.0134748025)\n",
      "(array([[0.46698207]], dtype=float32), array([1.1949912], dtype=float32), 0.0134748025)\n",
      "(array([[0.46698207]], dtype=float32), array([1.1949912], dtype=float32), 0.0134748025)\n",
      "(array([[0.46698207]], dtype=float32), array([1.1949912], dtype=float32), 0.0134748025)\n",
      "(array([[0.46698207]], dtype=float32), array([1.1949912], dtype=float32), 0.0134748025)\n",
      "(array([[0.46698207]], dtype=float32), array([1.1949912], dtype=float32), 0.0134748025)\n",
      "(array([[0.46698207]], dtype=float32), array([1.1949912], dtype=float32), 0.0134748025)\n",
      "(array([[0.46698207]], dtype=float32), array([1.1949912], dtype=float32), 0.0134748025)\n",
      "(array([[0.46698207]], dtype=float32), array([1.1949912], dtype=float32), 0.0134748025)\n",
      "(array([[0.46698207]], dtype=float32), array([1.1949912], dtype=float32), 0.0134748025)\n",
      "(array([[0.46698207]], dtype=float32), array([1.1949912], dtype=float32), 0.0134748025)\n",
      "(array([[0.46698207]], dtype=float32), array([1.1949912], dtype=float32), 0.0134748025)\n",
      "(array([[0.46698207]], dtype=float32), array([1.1949912], dtype=float32), 0.0134748025)\n",
      "(array([[0.46698207]], dtype=float32), array([1.1949912], dtype=float32), 0.0134748025)\n",
      "(array([[0.46698207]], dtype=float32), array([1.1949912], dtype=float32), 0.0134748025)\n",
      "(array([[0.46698207]], dtype=float32), array([1.1949912], dtype=float32), 0.0134748025)\n",
      "(array([[0.46698207]], dtype=float32), array([1.1949912], dtype=float32), 0.0134748025)\n",
      "(array([[0.46698207]], dtype=float32), array([1.1949912], dtype=float32), 0.0134748025)\n",
      "(array([[0.46698207]], dtype=float32), array([1.1949912], dtype=float32), 0.0134748025)\n",
      "(array([[0.46698207]], dtype=float32), array([1.1949912], dtype=float32), 0.0134748025)\n",
      "(array([[0.46698207]], dtype=float32), array([1.1949912], dtype=float32), 0.0134748025)\n",
      "(array([[0.46698207]], dtype=float32), array([1.1949912], dtype=float32), 0.0134748025)\n",
      "(array([[0.46698207]], dtype=float32), array([1.1949912], dtype=float32), 0.0134748025)\n",
      "(array([[0.46698207]], dtype=float32), array([1.1949912], dtype=float32), 0.0134748025)\n",
      "(array([[0.46698207]], dtype=float32), array([1.1949912], dtype=float32), 0.0134748025)\n",
      "(array([[0.46698207]], dtype=float32), array([1.1949912], dtype=float32), 0.0134748025)\n",
      "(array([[0.46698207]], dtype=float32), array([1.1949912], dtype=float32), 0.0134748025)\n",
      "(array([[0.46698207]], dtype=float32), array([1.1949912], dtype=float32), 0.0134748025)\n",
      "(array([[0.46698207]], dtype=float32), array([1.1949912], dtype=float32), 0.0134748025)\n",
      "(array([[0.46698207]], dtype=float32), array([1.1949912], dtype=float32), 0.0134748025)\n",
      "(array([[0.46698207]], dtype=float32), array([1.1949912], dtype=float32), 0.0134748025)\n",
      "(array([[0.46698207]], dtype=float32), array([1.1949912], dtype=float32), 0.0134748025)\n",
      "(array([[0.46698207]], dtype=float32), array([1.1949912], dtype=float32), 0.0134748025)\n",
      "(array([[0.46698207]], dtype=float32), array([1.1949912], dtype=float32), 0.0134748025)\n",
      "(array([[0.46698207]], dtype=float32), array([1.1949912], dtype=float32), 0.0134748025)\n",
      "(array([[0.46698207]], dtype=float32), array([1.1949912], dtype=float32), 0.0134748025)\n",
      "(array([[0.46698207]], dtype=float32), array([1.1949912], dtype=float32), 0.0134748025)\n",
      "(array([[0.46698207]], dtype=float32), array([1.1949912], dtype=float32), 0.0134748025)\n",
      "(array([[0.46698207]], dtype=float32), array([1.1949912], dtype=float32), 0.0134748025)\n",
      "(array([[0.46698207]], dtype=float32), array([1.1949912], dtype=float32), 0.0134748025)\n",
      "(array([[0.46698207]], dtype=float32), array([1.1949912], dtype=float32), 0.0134748025)\n",
      "(array([[0.46698207]], dtype=float32), array([1.1949912], dtype=float32), 0.0134748025)\n",
      "(array([[0.46698207]], dtype=float32), array([1.1949912], dtype=float32), 0.0134748025)\n",
      "(array([[0.46698207]], dtype=float32), array([1.1949912], dtype=float32), 0.0134748025)\n",
      "(array([[0.46698207]], dtype=float32), array([1.1949912], dtype=float32), 0.0134748025)\n",
      "(array([[0.46698207]], dtype=float32), array([1.1949912], dtype=float32), 0.0134748025)\n",
      "(array([[0.46698207]], dtype=float32), array([1.1949912], dtype=float32), 0.0134748025)\n",
      "(array([[0.46698207]], dtype=float32), array([1.1949912], dtype=float32), 0.0134748025)\n",
      "(array([[0.46698207]], dtype=float32), array([1.1949912], dtype=float32), 0.0134748025)\n",
      "(array([[0.46698207]], dtype=float32), array([1.1949912], dtype=float32), 0.0134748025)\n",
      "(array([[0.46698207]], dtype=float32), array([1.1949912], dtype=float32), 0.0134748025)\n",
      "(array([[0.46698207]], dtype=float32), array([1.1949912], dtype=float32), 0.0134748025)\n",
      "(array([[0.46698207]], dtype=float32), array([1.1949912], dtype=float32), 0.0134748025)\n",
      "(array([[0.46698207]], dtype=float32), array([1.1949912], dtype=float32), 0.0134748025)\n",
      "(array([[0.46698207]], dtype=float32), array([1.1949912], dtype=float32), 0.0134748025)\n",
      "(array([[0.46698207]], dtype=float32), array([1.1949912], dtype=float32), 0.0134748025)\n",
      "(array([[0.46698207]], dtype=float32), array([1.1949912], dtype=float32), 0.0134748025)\n",
      "(array([[0.46698207]], dtype=float32), array([1.1949912], dtype=float32), 0.0134748025)\n",
      "(array([[0.46698207]], dtype=float32), array([1.1949912], dtype=float32), 0.0134748025)\n",
      "(array([[0.46698207]], dtype=float32), array([1.1949912], dtype=float32), 0.0134748025)\n",
      "(array([[0.46698207]], dtype=float32), array([1.1949912], dtype=float32), 0.0134748025)\n",
      "(array([[0.46698207]], dtype=float32), array([1.1949912], dtype=float32), 0.0134748025)\n",
      "(array([[0.46698207]], dtype=float32), array([1.1949912], dtype=float32), 0.0134748025)\n",
      "(array([[0.46698207]], dtype=float32), array([1.1949912], dtype=float32), 0.0134748025)\n",
      "(array([[0.46698207]], dtype=float32), array([1.1949912], dtype=float32), 0.0134748025)\n",
      "(array([[0.46698207]], dtype=float32), array([1.1949912], dtype=float32), 0.0134748025)\n",
      "(array([[0.46698207]], dtype=float32), array([1.1949912], dtype=float32), 0.0134748025)\n",
      "(array([[0.46698207]], dtype=float32), array([1.1949912], dtype=float32), 0.0134748025)\n",
      "(array([[0.46698207]], dtype=float32), array([1.1949912], dtype=float32), 0.0134748025)\n",
      "(array([[0.46698207]], dtype=float32), array([1.1949912], dtype=float32), 0.0134748025)\n",
      "(array([[0.46698207]], dtype=float32), array([1.1949912], dtype=float32), 0.0134748025)\n",
      "(array([[0.46698207]], dtype=float32), array([1.1949912], dtype=float32), 0.0134748025)\n",
      "(array([[0.46698207]], dtype=float32), array([1.1949912], dtype=float32), 0.0134748025)\n",
      "(array([[0.46698207]], dtype=float32), array([1.1949912], dtype=float32), 0.0134748025)\n",
      "(array([[0.46698207]], dtype=float32), array([1.1949912], dtype=float32), 0.0134748025)\n",
      "(array([[0.46698207]], dtype=float32), array([1.1949912], dtype=float32), 0.0134748025)\n",
      "(array([[0.46698207]], dtype=float32), array([1.1949912], dtype=float32), 0.0134748025)\n",
      "(array([[0.46698207]], dtype=float32), array([1.1949912], dtype=float32), 0.0134748025)\n",
      "(array([[0.46698207]], dtype=float32), array([1.1949912], dtype=float32), 0.0134748025)\n",
      "(array([[0.46698207]], dtype=float32), array([1.1949912], dtype=float32), 0.0134748025)\n",
      "(array([[0.46698207]], dtype=float32), array([1.1949912], dtype=float32), 0.0134748025)\n",
      "(array([[0.46698207]], dtype=float32), array([1.1949912], dtype=float32), 0.0134748025)\n",
      "(array([[0.46698207]], dtype=float32), array([1.1949912], dtype=float32), 0.0134748025)\n",
      "(array([[0.46698207]], dtype=float32), array([1.1949912], dtype=float32), 0.0134748025)\n",
      "(array([[0.46698207]], dtype=float32), array([1.1949912], dtype=float32), 0.0134748025)\n",
      "(array([[0.46698207]], dtype=float32), array([1.1949912], dtype=float32), 0.0134748025)\n",
      "(array([[0.46698207]], dtype=float32), array([1.1949912], dtype=float32), 0.0134748025)\n",
      "(array([[0.46698207]], dtype=float32), array([1.1949912], dtype=float32), 0.0134748025)\n",
      "(array([[0.46698207]], dtype=float32), array([1.1949912], dtype=float32), 0.0134748025)\n",
      "(array([[0.46698207]], dtype=float32), array([1.1949912], dtype=float32), 0.0134748025)\n",
      "(array([[0.46698207]], dtype=float32), array([1.1949912], dtype=float32), 0.0134748025)\n",
      "(array([[0.46698207]], dtype=float32), array([1.1949912], dtype=float32), 0.0134748025)\n",
      "(array([[0.46698207]], dtype=float32), array([1.1949912], dtype=float32), 0.0134748025)\n",
      "(array([[0.46698207]], dtype=float32), array([1.1949912], dtype=float32), 0.0134748025)\n",
      "(array([[0.46698207]], dtype=float32), array([1.1949912], dtype=float32), 0.0134748025)\n",
      "(array([[0.46698207]], dtype=float32), array([1.1949912], dtype=float32), 0.0134748025)\n",
      "(array([[0.46698207]], dtype=float32), array([1.1949912], dtype=float32), 0.0134748025)\n",
      "(array([[0.46698207]], dtype=float32), array([1.1949912], dtype=float32), 0.0134748025)\n",
      "(array([[0.46698207]], dtype=float32), array([1.1949912], dtype=float32), 0.0134748025)\n",
      "(array([[0.46698207]], dtype=float32), array([1.1949912], dtype=float32), 0.0134748025)\n",
      "(array([[0.46698207]], dtype=float32), array([1.1949912], dtype=float32), 0.0134748025)\n",
      "(array([[0.46698207]], dtype=float32), array([1.1949912], dtype=float32), 0.0134748025)\n",
      "(array([[0.46698207]], dtype=float32), array([1.1949912], dtype=float32), 0.0134748025)\n",
      "(array([[0.46698207]], dtype=float32), array([1.1949912], dtype=float32), 0.0134748025)\n",
      "(array([[0.46698207]], dtype=float32), array([1.1949912], dtype=float32), 0.0134748025)\n",
      "(array([[0.46698207]], dtype=float32), array([1.1949912], dtype=float32), 0.0134748025)\n",
      "(array([[0.46698207]], dtype=float32), array([1.1949912], dtype=float32), 0.0134748025)\n",
      "(array([[0.46698207]], dtype=float32), array([1.1949912], dtype=float32), 0.0134748025)\n",
      "(array([[0.46698207]], dtype=float32), array([1.1949912], dtype=float32), 0.0134748025)\n",
      "(array([[0.46698207]], dtype=float32), array([1.1949912], dtype=float32), 0.0134748025)\n",
      "(array([[0.46698207]], dtype=float32), array([1.1949912], dtype=float32), 0.0134748025)\n",
      "(array([[0.46698207]], dtype=float32), array([1.1949912], dtype=float32), 0.0134748025)\n",
      "(array([[0.46698207]], dtype=float32), array([1.1949912], dtype=float32), 0.0134748025)\n",
      "(array([[0.46698207]], dtype=float32), array([1.1949912], dtype=float32), 0.0134748025)\n",
      "(array([[0.46698207]], dtype=float32), array([1.1949912], dtype=float32), 0.0134748025)\n",
      "(array([[0.46698207]], dtype=float32), array([1.1949912], dtype=float32), 0.0134748025)\n",
      "(array([[0.46698207]], dtype=float32), array([1.1949912], dtype=float32), 0.0134748025)\n",
      "(array([[0.46698207]], dtype=float32), array([1.1949912], dtype=float32), 0.0134748025)\n",
      "(array([[0.46698207]], dtype=float32), array([1.1949912], dtype=float32), 0.0134748025)\n",
      "(array([[0.46698207]], dtype=float32), array([1.1949912], dtype=float32), 0.0134748025)\n",
      "(array([[0.46698207]], dtype=float32), array([1.1949912], dtype=float32), 0.0134748025)\n",
      "(array([[0.46698207]], dtype=float32), array([1.1949912], dtype=float32), 0.0134748025)\n",
      "(array([[0.46698207]], dtype=float32), array([1.1949912], dtype=float32), 0.0134748025)\n",
      "(array([[0.46698207]], dtype=float32), array([1.1949912], dtype=float32), 0.0134748025)\n",
      "(array([[0.46698207]], dtype=float32), array([1.1949912], dtype=float32), 0.0134748025)\n",
      "(array([[0.46698207]], dtype=float32), array([1.1949912], dtype=float32), 0.0134748025)\n",
      "(array([[0.46698207]], dtype=float32), array([1.1949912], dtype=float32), 0.0134748025)\n",
      "(array([[0.46698207]], dtype=float32), array([1.1949912], dtype=float32), 0.0134748025)\n",
      "(array([[0.46698207]], dtype=float32), array([1.1949912], dtype=float32), 0.0134748025)\n",
      "(array([[0.46698207]], dtype=float32), array([1.1949912], dtype=float32), 0.0134748025)\n",
      "(array([[0.46698207]], dtype=float32), array([1.1949912], dtype=float32), 0.0134748025)\n",
      "(array([[0.46698207]], dtype=float32), array([1.1949912], dtype=float32), 0.0134748025)\n",
      "(array([[0.46698207]], dtype=float32), array([1.1949912], dtype=float32), 0.0134748025)\n",
      "(array([[0.46698207]], dtype=float32), array([1.1949912], dtype=float32), 0.0134748025)\n",
      "(array([[0.46698207]], dtype=float32), array([1.1949912], dtype=float32), 0.0134748025)\n",
      "(array([[0.46698207]], dtype=float32), array([1.1949912], dtype=float32), 0.0134748025)\n",
      "(array([[0.46698207]], dtype=float32), array([1.1949912], dtype=float32), 0.0134748025)\n",
      "(array([[0.46698207]], dtype=float32), array([1.1949912], dtype=float32), 0.0134748025)\n",
      "(array([[0.46698207]], dtype=float32), array([1.1949912], dtype=float32), 0.0134748025)\n",
      "(array([[0.46698207]], dtype=float32), array([1.1949912], dtype=float32), 0.0134748025)\n",
      "(array([[0.46698207]], dtype=float32), array([1.1949912], dtype=float32), 0.0134748025)\n",
      "(array([[0.46698207]], dtype=float32), array([1.1949912], dtype=float32), 0.0134748025)\n",
      "(array([[0.46698207]], dtype=float32), array([1.1949912], dtype=float32), 0.0134748025)\n",
      "(array([[0.46698207]], dtype=float32), array([1.1949912], dtype=float32), 0.0134748025)\n",
      "(array([[0.46698207]], dtype=float32), array([1.1949912], dtype=float32), 0.0134748025)\n",
      "(array([[0.46698207]], dtype=float32), array([1.1949912], dtype=float32), 0.0134748025)\n",
      "(array([[0.46698207]], dtype=float32), array([1.1949912], dtype=float32), 0.0134748025)\n",
      "(array([[0.46698207]], dtype=float32), array([1.1949912], dtype=float32), 0.0134748025)\n",
      "(array([[0.46698207]], dtype=float32), array([1.1949912], dtype=float32), 0.0134748025)\n",
      "(array([[0.46698207]], dtype=float32), array([1.1949912], dtype=float32), 0.0134748025)\n",
      "(array([[0.46698207]], dtype=float32), array([1.1949912], dtype=float32), 0.0134748025)\n",
      "(array([[0.46698207]], dtype=float32), array([1.1949912], dtype=float32), 0.0134748025)\n",
      "(array([[0.46698207]], dtype=float32), array([1.1949912], dtype=float32), 0.0134748025)\n",
      "(array([[0.46698207]], dtype=float32), array([1.1949912], dtype=float32), 0.0134748025)\n",
      "(array([[0.46698207]], dtype=float32), array([1.1949912], dtype=float32), 0.0134748025)\n",
      "(array([[0.46698207]], dtype=float32), array([1.1949912], dtype=float32), 0.0134748025)\n",
      "(array([[0.46698207]], dtype=float32), array([1.1949912], dtype=float32), 0.0134748025)\n",
      "(array([[0.46698207]], dtype=float32), array([1.1949912], dtype=float32), 0.0134748025)\n",
      "(array([[0.46698207]], dtype=float32), array([1.1949912], dtype=float32), 0.0134748025)\n",
      "(array([[0.46698207]], dtype=float32), array([1.1949912], dtype=float32), 0.0134748025)\n",
      "(array([[0.46698207]], dtype=float32), array([1.1949912], dtype=float32), 0.0134748025)\n",
      "(array([[0.46698207]], dtype=float32), array([1.1949912], dtype=float32), 0.0134748025)\n",
      "(array([[0.46698207]], dtype=float32), array([1.1949912], dtype=float32), 0.0134748025)\n",
      "(array([[0.46698207]], dtype=float32), array([1.1949912], dtype=float32), 0.0134748025)\n",
      "(array([[0.46698207]], dtype=float32), array([1.1949912], dtype=float32), 0.0134748025)\n",
      "(array([[0.46698207]], dtype=float32), array([1.1949912], dtype=float32), 0.0134748025)\n",
      "(array([[0.46698207]], dtype=float32), array([1.1949912], dtype=float32), 0.0134748025)\n",
      "(array([[0.46698207]], dtype=float32), array([1.1949912], dtype=float32), 0.0134748025)\n",
      "(array([[0.46698207]], dtype=float32), array([1.1949912], dtype=float32), 0.0134748025)\n",
      "(array([[0.46698207]], dtype=float32), array([1.1949912], dtype=float32), 0.0134748025)\n"
     ]
    }
   ],
   "source": [
    "with tf.Session() as sess :\n",
    "    sess.run(init)\n",
    "    \n",
    "    for epoch in range(MaxEpochs) :\n",
    "        if epoch % 5 == 0 :\n",
    "            curr_w, curr_b, curr_loss = sess.run([w, b, loss], feed_dict = {x : x_train, y : y_train})\n",
    "            print(curr_w, curr_b, curr_loss)\n",
    "        sess.run(train, feed_dict = {x : x_train, y : y_train})\n",
    "    w_tf_gd, b_tf_gd = sess.run([w, b])"
   ]
  },
  {
   "cell_type": "code",
   "execution_count": 193,
   "metadata": {},
   "outputs": [],
   "source": [
    "import numpy as np\n",
    "import tensorflow as tf\n",
    "import matplotlib.pyplot as plt\n",
    "\n",
    "np.random.seed(327)\n",
    "x_train = np.linspace(-1, 1, 50)\n",
    "y_train = x_train**2 + 0.25 * x_train + 1.0 + 0.5 * np.random.rand(len(x_train))"
   ]
  },
  {
   "cell_type": "code",
   "execution_count": 194,
   "metadata": {},
   "outputs": [
    {
     "data": {
      "image/png": "[encoded data removed]",
      "text/plain": [
       "<Figure size 432x288 with 1 Axes>"
      ]
     },
     "metadata": {
      "needs_background": "light"
     },
     "output_type": "display_data"
    }
   ],
   "source": [
    "plt.plot(x_train, y_train, '.k')\n",
    "plt.grid()\n",
    "plt.xlabel('x')\n",
    "plt.ylabel('y')\n",
    "plt.show()"
   ]
  },
  {
   "cell_type": "code",
   "execution_count": 225,
   "metadata": {},
   "outputs": [],
   "source": [
    "features = np.array([[xval**2], xval] for xval in x_train)\n",
    "labels = y_train.reshape(-1, 1)"
   ]
  },
  {
   "cell_type": "code",
   "execution_count": 196,
   "metadata": {},
   "outputs": [
    {
     "name": "stdout",
     "output_type": "stream",
     "text": [
      "<generator object <genexpr> at 0x7f64c455e960>\n"
     ]
    }
   ],
   "source": [
    "#print(labels)\n",
    "print(features)"
   ]
  },
  {
   "cell_type": "code",
   "execution_count": 210,
   "metadata": {},
   "outputs": [],
   "source": [
    "w = tf.Variable(tf.ones([2, 1]))\n",
    "b = tf.Variable(tf.ones([1]))\n",
    "\n",
    "x = tf.placeholder(tf.float32, [None, 2])\n",
    "y = tf.placeholder(tf.float32, [None, 1])\n",
    "yhat = tf.matmul(x, w) + b\n",
    "loss = tf.reduce_mean(tf.square(yhat - y))\n",
    "\n",
    "\n",
    "MaxEpoch = 25\n",
    "batch_size = 10\n",
    "lr = 0.25\n",
    "optimizer = tf.train.GradientDescentOptimizer(lr)\n",
    "train = optimizer.minimize(loss)"
   ]
  },
  {
   "cell_type": "code",
   "execution_count": 209,
   "metadata": {},
   "outputs": [
    {
     "ename": "IndexError",
     "evalue": "too many indices for array",
     "output_type": "error",
     "traceback": [
      "\u001b[0;31m\u001b[0m",
      "\u001b[0;31mIndexError\u001b[0mTraceback (most recent call last)",
      "\u001b[0;32m<ipython-input-209-7612a0a935bd>\u001b[0m in \u001b[0;36m<module>\u001b[0;34m()\u001b[0m\n\u001b[1;32m      3\u001b[0m \u001b[0mnp\u001b[0m\u001b[0;34m.\u001b[0m\u001b[0mrandom\u001b[0m\u001b[0;34m.\u001b[0m\u001b[0mshuffle\u001b[0m\u001b[0;34m(\u001b[0m\u001b[0mshuffled_id\u001b[0m\u001b[0;34m)\u001b[0m\u001b[0;34m\u001b[0m\u001b[0m\n\u001b[1;32m      4\u001b[0m \u001b[0;34m\u001b[0m\u001b[0m\n\u001b[0;32m----> 5\u001b[0;31m \u001b[0mshuffled_x_train\u001b[0m \u001b[0;34m=\u001b[0m \u001b[0mfeatures\u001b[0m\u001b[0;34m[\u001b[0m\u001b[0mshuffled_id\u001b[0m\u001b[0;34m]\u001b[0m\u001b[0;34m\u001b[0m\u001b[0m\n\u001b[0m\u001b[1;32m      6\u001b[0m \u001b[0mshuffled_y_train\u001b[0m \u001b[0;34m=\u001b[0m \u001b[0mlabels\u001b[0m\u001b[0;34m[\u001b[0m\u001b[0mshuffled_id\u001b[0m\u001b[0;34m]\u001b[0m\u001b[0;34m\u001b[0m\u001b[0m\n",
      "\u001b[0;31mIndexError\u001b[0m: too many indices for array"
     ]
    }
   ],
   "source": [
    "np.random.seed(320)\n",
    "shuffled_id = np.arange(0, len(x_train))\n",
    "np.random.shuffle(shuffled_id)\n",
    "\n",
    "shuffled_x_train = features[shuffled_id]\n",
    "shuffled_y_train = labels[shuffled_id]"
   ]
  },
  {
   "cell_type": "code",
   "execution_count": 183,
   "metadata": {},
   "outputs": [
    {
     "ename": "TypeError",
     "evalue": "float() argument must be a string or a number",
     "output_type": "error",
     "traceback": [
      "\u001b[0;31m\u001b[0m",
      "\u001b[0;31mTypeError\u001b[0mTraceback (most recent call last)",
      "\u001b[0;32m<ipython-input-183-274b6ee1a657>\u001b[0m in \u001b[0;36m<module>\u001b[0;34m()\u001b[0m\n\u001b[1;32m      6\u001b[0m     \u001b[0;32mfor\u001b[0m \u001b[0mepoch\u001b[0m \u001b[0;32min\u001b[0m \u001b[0mrange\u001b[0m\u001b[0;34m(\u001b[0m\u001b[0;36m25\u001b[0m\u001b[0;34m)\u001b[0m \u001b[0;34m:\u001b[0m\u001b[0;34m\u001b[0m\u001b[0m\n\u001b[1;32m      7\u001b[0m         \u001b[0;32mif\u001b[0m \u001b[0mepoch\u001b[0m \u001b[0;34m%\u001b[0m \u001b[0;36m5\u001b[0m \u001b[0;34m==\u001b[0m \u001b[0;36m0\u001b[0m \u001b[0;34m:\u001b[0m\u001b[0;34m\u001b[0m\u001b[0m\n\u001b[0;32m----> 8\u001b[0;31m             \u001b[0mcurr_w\u001b[0m\u001b[0;34m,\u001b[0m \u001b[0mcurr_b\u001b[0m\u001b[0;34m,\u001b[0m \u001b[0mcurr_loss\u001b[0m \u001b[0;34m=\u001b[0m \u001b[0msess\u001b[0m\u001b[0;34m.\u001b[0m\u001b[0mrun\u001b[0m\u001b[0;34m(\u001b[0m\u001b[0;34m[\u001b[0m\u001b[0mw\u001b[0m\u001b[0;34m,\u001b[0m \u001b[0mb\u001b[0m\u001b[0;34m,\u001b[0m \u001b[0mloss\u001b[0m\u001b[0;34m]\u001b[0m\u001b[0;34m,\u001b[0m \u001b[0mfeed_dict\u001b[0m \u001b[0;34m=\u001b[0m \u001b[0;34m{\u001b[0m\u001b[0mx\u001b[0m \u001b[0;34m:\u001b[0m \u001b[0mfeatures\u001b[0m\u001b[0;34m,\u001b[0m \u001b[0my\u001b[0m \u001b[0;34m:\u001b[0m \u001b[0mlabels\u001b[0m\u001b[0;34m}\u001b[0m\u001b[0;34m)\u001b[0m\u001b[0;34m\u001b[0m\u001b[0m\n\u001b[0m\u001b[1;32m      9\u001b[0m             \u001b[0;32mprint\u001b[0m\u001b[0;34m(\u001b[0m\u001b[0mcurr_w\u001b[0m\u001b[0;34m.\u001b[0m\u001b[0mreshape\u001b[0m\u001b[0;34m(\u001b[0m\u001b[0;36m1\u001b[0m\u001b[0;34m,\u001b[0m \u001b[0;34m-\u001b[0m\u001b[0;36m1\u001b[0m\u001b[0;34m)\u001b[0m\u001b[0;34m,\u001b[0m \u001b[0mcurr_b\u001b[0m\u001b[0;34m,\u001b[0m \u001b[0mcurr_loss\u001b[0m\u001b[0;34m)\u001b[0m\u001b[0;34m\u001b[0m\u001b[0m\n\u001b[1;32m     10\u001b[0m \u001b[0;34m\u001b[0m\u001b[0m\n",
      "\u001b[0;32m/opt/anaconda3/envs/shared_env_py27_tfc115/lib/python2.7/site-packages/tensorflow_core/python/client/session.pyc\u001b[0m in \u001b[0;36mrun\u001b[0;34m(self, fetches, feed_dict, options, run_metadata)\u001b[0m\n\u001b[1;32m    954\u001b[0m     \u001b[0;32mtry\u001b[0m\u001b[0;34m:\u001b[0m\u001b[0;34m\u001b[0m\u001b[0m\n\u001b[1;32m    955\u001b[0m       result = self._run(None, fetches, feed_dict, options_ptr,\n\u001b[0;32m--> 956\u001b[0;31m                          run_metadata_ptr)\n\u001b[0m\u001b[1;32m    957\u001b[0m       \u001b[0;32mif\u001b[0m \u001b[0mrun_metadata\u001b[0m\u001b[0;34m:\u001b[0m\u001b[0;34m\u001b[0m\u001b[0m\n\u001b[1;32m    958\u001b[0m         \u001b[0mproto_data\u001b[0m \u001b[0;34m=\u001b[0m \u001b[0mtf_session\u001b[0m\u001b[0;34m.\u001b[0m\u001b[0mTF_GetBuffer\u001b[0m\u001b[0;34m(\u001b[0m\u001b[0mrun_metadata_ptr\u001b[0m\u001b[0;34m)\u001b[0m\u001b[0;34m\u001b[0m\u001b[0m\n",
      "\u001b[0;32m/opt/anaconda3/envs/shared_env_py27_tfc115/lib/python2.7/site-packages/tensorflow_core/python/client/session.pyc\u001b[0m in \u001b[0;36m_run\u001b[0;34m(self, handle, fetches, feed_dict, options, run_metadata)\u001b[0m\n\u001b[1;32m   1147\u001b[0m             \u001b[0mfeed_handles\u001b[0m\u001b[0;34m[\u001b[0m\u001b[0msubfeed_t\u001b[0m\u001b[0;34m]\u001b[0m \u001b[0;34m=\u001b[0m \u001b[0msubfeed_val\u001b[0m\u001b[0;34m\u001b[0m\u001b[0m\n\u001b[1;32m   1148\u001b[0m           \u001b[0;32melse\u001b[0m\u001b[0;34m:\u001b[0m\u001b[0;34m\u001b[0m\u001b[0m\n\u001b[0;32m-> 1149\u001b[0;31m             \u001b[0mnp_val\u001b[0m \u001b[0;34m=\u001b[0m \u001b[0mnp\u001b[0m\u001b[0;34m.\u001b[0m\u001b[0masarray\u001b[0m\u001b[0;34m(\u001b[0m\u001b[0msubfeed_val\u001b[0m\u001b[0;34m,\u001b[0m \u001b[0mdtype\u001b[0m\u001b[0;34m=\u001b[0m\u001b[0msubfeed_dtype\u001b[0m\u001b[0;34m)\u001b[0m\u001b[0;34m\u001b[0m\u001b[0m\n\u001b[0m\u001b[1;32m   1150\u001b[0m \u001b[0;34m\u001b[0m\u001b[0m\n\u001b[1;32m   1151\u001b[0m           if (not is_tensor_handle_feed and\n",
      "\u001b[0;32m/opt/anaconda3/envs/shared_env_py27_tfc115/lib/python2.7/site-packages/numpy/core/numeric.pyc\u001b[0m in \u001b[0;36masarray\u001b[0;34m(a, dtype, order)\u001b[0m\n\u001b[1;32m    536\u001b[0m \u001b[0;34m\u001b[0m\u001b[0m\n\u001b[1;32m    537\u001b[0m     \"\"\"\n\u001b[0;32m--> 538\u001b[0;31m     \u001b[0;32mreturn\u001b[0m \u001b[0marray\u001b[0m\u001b[0;34m(\u001b[0m\u001b[0ma\u001b[0m\u001b[0;34m,\u001b[0m \u001b[0mdtype\u001b[0m\u001b[0;34m,\u001b[0m \u001b[0mcopy\u001b[0m\u001b[0;34m=\u001b[0m\u001b[0mFalse\u001b[0m\u001b[0;34m,\u001b[0m \u001b[0morder\u001b[0m\u001b[0;34m=\u001b[0m\u001b[0morder\u001b[0m\u001b[0;34m)\u001b[0m\u001b[0;34m\u001b[0m\u001b[0m\n\u001b[0m\u001b[1;32m    539\u001b[0m \u001b[0;34m\u001b[0m\u001b[0m\n\u001b[1;32m    540\u001b[0m \u001b[0;34m\u001b[0m\u001b[0m\n",
      "\u001b[0;31mTypeError\u001b[0m: float() argument must be a string or a number"
     ]
    }
   ],
   "source": [
    "init = tf.global_variables_initializer()\n",
    "\n",
    "with tf.Session() as sess :\n",
    "    sess.run(init)\n",
    "    \n",
    "    for epoch in range(25) :\n",
    "        if epoch % 5 == 0 :\n",
    "            curr_w, curr_b, curr_loss = sess.run([w, b, loss], feed_dict = {x : features, y : labels})\n",
    "            print(curr_w.reshape(1, -1), curr_b, curr_loss)\n",
    "            \n",
    "        for x_batch, y_batch in generate_batches(batch_size, shuffled_x_train, shuffled_y_train) :\n",
    "            sess.run(train, feed_dict = {x : x_batch, y : y_batch})\n",
    "       \n",
    "    w_tf_sgd, b_tf_sgd = sess.run([w, b])\n",
    "    prediction_values = sess.run(yhat, feed_dict = {x : features})\n",
    "\n",
    "print(prediction_values)"
   ]
  },
  {
   "cell_type": "code",
   "execution_count": 221,
   "metadata": {},
   "outputs": [
    {
     "ename": "IndexError",
     "evalue": "too many indices for array",
     "output_type": "error",
     "traceback": [
      "\u001b[0;31m\u001b[0m",
      "\u001b[0;31mIndexError\u001b[0mTraceback (most recent call last)",
      "\u001b[0;32m<ipython-input-221-d8b1aca93451>\u001b[0m in \u001b[0;36m<module>\u001b[0;34m()\u001b[0m\n\u001b[0;32m----> 1\u001b[0;31m \u001b[0mfeatures\u001b[0m\u001b[0;34m[\u001b[0m\u001b[0;36m1\u001b[0m\u001b[0;34m]\u001b[0m\u001b[0;34m\u001b[0m\u001b[0m\n\u001b[0m",
      "\u001b[0;31mIndexError\u001b[0m: too many indices for array"
     ]
    }
   ],
   "source": [
    "features[1]"
   ]
  },
  {
   "cell_type": "code",
   "execution_count": null,
   "metadata": {},
   "outputs": [],
   "source": []
  },
  {
   "cell_type": "code",
   "execution_count": null,
   "metadata": {},
   "outputs": [],
   "source": []
  },
  {
   "cell_type": "code",
   "execution_count": null,
   "metadata": {},
   "outputs": [],
   "source": []
  },
  {
   "cell_type": "code",
   "execution_count": null,
   "metadata": {},
   "outputs": [],
   "source": []
  },
  {
   "cell_type": "code",
   "execution_count": null,
   "metadata": {},
   "outputs": [],
   "source": []
  },
  {
   "cell_type": "code",
   "execution_count": null,
   "metadata": {},
   "outputs": [],
   "source": []
  }
 ],
 "metadata": {
  "kernelspec": {
   "display_name": "tf_1.14",
   "language": "python",
   "name": "tf_1.14"
  },
  "language_info": {
   "codemirror_mode": {
    "name": "ipython",
    "version": 3
   },
   "file_extension": ".py",
   "mimetype": "text/x-python",
   "name": "python",
   "nbconvert_exporter": "python",
   "pygments_lexer": "ipython3",
   "version": "3.7.12"
  }
 },
 "nbformat": 4,
 "nbformat_minor": 4
}
