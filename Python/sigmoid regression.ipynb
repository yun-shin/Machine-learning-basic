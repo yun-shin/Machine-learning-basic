{
 "cells": [
  {
   "cell_type": "code",
   "execution_count": 5,
   "metadata": {},
   "outputs": [],
   "source": [
    "import numpy as np\n",
    "import tensorflow.compat.v1 as tf\n",
    "\n",
    "xtrain = np.genfromtxt('train.in', dtype='float32', delimiter=\" \")\n",
    "ytrain = np.genfromtxt('train.out', dtype='float32', delimiter=\" \").reshape(-1, 1)\n",
    "        "
   ]
  },
  {
   "cell_type": "code",
   "execution_count": 6,
   "metadata": {},
   "outputs": [],
   "source": [
    "from sklearn.preprocessing import StandardScaler\n",
    "\n",
    "scaler = StandardScaler()\n",
    "\n",
    "scaler.fit(xtrain)\n",
    "scaled_xtrain  = scaler.transform(xtrain)"
   ]
  },
  {
   "cell_type": "code",
   "execution_count": 7,
   "metadata": {},
   "outputs": [],
   "source": [
    "X = tf.placeholder(tf.float32, shape=[None, 4])\n",
    "Y = tf.placeholder(tf.float32, shape=[None, 1])\n",
    "W = tf.Variable(tf.random_normal([4,1]), name='weight')\n",
    "b = tf.Variable(tf.random_normal([1]), name='bias')\n",
    "\n",
    "MaxEpochs = 10000\n",
    "x_data = scaled_xtrain\n",
    "y_data = ytrain\n",
    "\n",
    "yhat = tf.sigmoid(tf.matmul(X,W) + b)\n",
    "loss = -tf.reduce_mean(Y*tf.log(yhat) + (1-Y)*tf.log(1 - yhat))\n",
    "\n",
    "train = tf.train.AdamOptimizer(learning_rate=0.0002).minimize(loss)\n",
    "\n",
    "# Accuracy computation\n",
    "# True if yhat > 0,5 else false\n",
    "predicted = tf.cast(yhat > 0.5, dtype=tf.float32)\n",
    "accuracy = tf.reduce_mean(tf.cast(tf.equal(predicted, Y), dtype=tf.float32))"
   ]
  },
  {
   "cell_type": "code",
   "execution_count": 8,
   "metadata": {
    "scrolled": true
   },
   "outputs": [
    {
     "name": "stdout",
     "output_type": "stream",
     "text": [
      "yhat:  [[0.98963726]\n",
      " [0.00409847]\n",
      " [0.92669   ]\n",
      " ...\n",
      " [0.2819302 ]\n",
      " [0.06596455]\n",
      " [0.7468214 ]]\n",
      "Correct (Y):  [[1.]\n",
      " [0.]\n",
      " [1.]\n",
      " ...\n",
      " [0.]\n",
      " [0.]\n",
      " [1.]]\n",
      "Accuracy:  0.9213\n"
     ]
    }
   ],
   "source": [
    "with tf.Session() as sess:\n",
    "    sess.run(tf.global_variables_initializer())\n",
    "    \n",
    "    for step in range(MaxEpochs):\n",
    "        loss_val, _ = sess.run([loss, train], feed_dict={X: x_data, Y: y_data})\n",
    "#        if step % 200 == 0:\n",
    "#            print(step, loss_val)\n",
    "            \n",
    "    h, c, a = sess.run([yhat, predicted, accuracy], feed_dict={X: x_data, Y: y_data})\n",
    "    \n",
    "    print(\"yhat: \", h)\n",
    "    print(\"Correct (Y): \", c)\n",
    "    print(\"Accuracy: \", a)"
   ]
  }
 ],
 "metadata": {
  "kernelspec": {
   "display_name": "tf_1.14",
   "language": "python",
   "name": "tf_1.14"
  },
  "language_info": {
   "codemirror_mode": {
    "name": "ipython",
    "version": 3
   },
   "file_extension": ".py",
   "mimetype": "text/x-python",
   "name": "python",
   "nbconvert_exporter": "python",
   "pygments_lexer": "ipython3",
   "version": "3.7.12"
  }
 },
 "nbformat": 4,
 "nbformat_minor": 4
}
